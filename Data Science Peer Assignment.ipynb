{
 "cells": [
  {
   "cell_type": "markdown",
   "id": "ec36e3f5",
   "metadata": {},
   "source": [
    "# My Jupyter Notebook on IBM Watson Studio\n"
   ]
  },
  {
   "cell_type": "markdown",
   "id": "d5621a41",
   "metadata": {},
   "source": [
    "**Chua Hui Qi**"
   ]
  },
  {
   "cell_type": "markdown",
   "id": "eb458f8e",
   "metadata": {},
   "source": [
    "Data Scientist"
   ]
  },
  {
   "cell_type": "markdown",
   "id": "ff7959b9",
   "metadata": {},
   "source": [
    "*I am interested in data science because because I want to pursue a career relating to it to analyse trend in machine learning.*"
   ]
  },
  {
   "cell_type": "markdown",
   "id": "99c2fa15",
   "metadata": {},
   "source": [
    "### My code in cell 5 will print the sum of two integers"
   ]
  },
  {
   "cell_type": "code",
   "execution_count": 2,
   "id": "ed295c27",
   "metadata": {},
   "outputs": [
    {
     "name": "stdout",
     "output_type": "stream",
     "text": [
      "2\n"
     ]
    }
   ],
   "source": [
    "print(1+1)"
   ]
  },
  {
   "cell_type": "markdown",
   "id": "c827f631",
   "metadata": {},
   "source": [
    "[Link](www.youtube.com)"
   ]
  },
  {
   "cell_type": "markdown",
   "id": "343fbc99",
   "metadata": {},
   "source": [
    "~~A strikethrough~~"
   ]
  },
  {
   "cell_type": "markdown",
   "id": "328ffd68",
   "metadata": {},
   "source": [
    "* Bullet List"
   ]
  },
  {
   "cell_type": "code",
   "execution_count": null,
   "id": "9b49a5cb",
   "metadata": {},
   "outputs": [],
   "source": []
  }
 ],
 "metadata": {
  "kernelspec": {
   "display_name": "Python 3 (ipykernel)",
   "language": "python",
   "name": "python3"
  },
  "language_info": {
   "codemirror_mode": {
    "name": "ipython",
    "version": 3
   },
   "file_extension": ".py",
   "mimetype": "text/x-python",
   "name": "python",
   "nbconvert_exporter": "python",
   "pygments_lexer": "ipython3",
   "version": "3.9.13"
  }
 },
 "nbformat": 4,
 "nbformat_minor": 5
}
